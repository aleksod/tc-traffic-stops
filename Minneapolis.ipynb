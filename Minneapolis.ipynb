{
 "cells": [
  {
   "cell_type": "markdown",
   "id": "487b2f45",
   "metadata": {},
   "source": [
    "# Process the Data"
   ]
  },
  {
   "cell_type": "code",
   "execution_count": 1,
   "id": "c0b1a65a",
   "metadata": {},
   "outputs": [],
   "source": [
    "import pandas as pd"
   ]
  },
  {
   "cell_type": "code",
   "execution_count": 2,
   "id": "8d7d8933",
   "metadata": {},
   "outputs": [
    {
     "name": "stderr",
     "output_type": "stream",
     "text": [
      "/opt/conda/lib/python3.9/site-packages/IPython/core/interactiveshell.py:3169: DtypeWarning: Columns (6) have mixed types.Specify dtype option on import or set low_memory=False.\n",
      "  has_raised = await self.run_ast_nodes(code_ast.body, cell_name,\n"
     ]
    }
   ],
   "source": [
    "# Data obtained from https://opendata.minneapolismn.gov/datasets/police-stop-data\n",
    "df = pd.read_csv('./data/mnpls.csv')"
   ]
  },
  {
   "cell_type": "code",
   "execution_count": 3,
   "id": "8247fd70",
   "metadata": {},
   "outputs": [
    {
     "data": {
      "text/html": [
       "<div>\n",
       "<style scoped>\n",
       "    .dataframe tbody tr th:only-of-type {\n",
       "        vertical-align: middle;\n",
       "    }\n",
       "\n",
       "    .dataframe tbody tr th {\n",
       "        vertical-align: top;\n",
       "    }\n",
       "\n",
       "    .dataframe thead th {\n",
       "        text-align: right;\n",
       "    }\n",
       "</style>\n",
       "<table border=\"1\" class=\"dataframe\">\n",
       "  <thead>\n",
       "    <tr style=\"text-align: right;\">\n",
       "      <th></th>\n",
       "      <th>OBJECTID</th>\n",
       "      <th>masterIncidentNumber</th>\n",
       "      <th>responseDate</th>\n",
       "      <th>reason</th>\n",
       "      <th>problem</th>\n",
       "      <th>callDisposition</th>\n",
       "      <th>citationIssued</th>\n",
       "      <th>personSearch</th>\n",
       "      <th>vehicleSearch</th>\n",
       "      <th>preRace</th>\n",
       "      <th>race</th>\n",
       "      <th>gender</th>\n",
       "      <th>lat</th>\n",
       "      <th>long</th>\n",
       "      <th>x</th>\n",
       "      <th>y</th>\n",
       "      <th>policePrecinct</th>\n",
       "      <th>neighborhood</th>\n",
       "      <th>lastUpdateDate</th>\n",
       "    </tr>\n",
       "  </thead>\n",
       "  <tbody>\n",
       "    <tr>\n",
       "      <th>0</th>\n",
       "      <td>1</td>\n",
       "      <td>16-395258</td>\n",
       "      <td>2016/10/31 22:40:47+00</td>\n",
       "      <td>NaN</td>\n",
       "      <td>Suspicious Person (P)</td>\n",
       "      <td>BKG-Booking</td>\n",
       "      <td>NaN</td>\n",
       "      <td>YES</td>\n",
       "      <td>NO</td>\n",
       "      <td>Black</td>\n",
       "      <td>Black</td>\n",
       "      <td>Male</td>\n",
       "      <td>44.979570</td>\n",
       "      <td>-93.272570</td>\n",
       "      <td>-1.038306e+07</td>\n",
       "      <td>5.618306e+06</td>\n",
       "      <td>1.0</td>\n",
       "      <td>Downtown West</td>\n",
       "      <td>2017/08/08 10:25:31+00</td>\n",
       "    </tr>\n",
       "    <tr>\n",
       "      <th>1</th>\n",
       "      <td>2</td>\n",
       "      <td>16-395296</td>\n",
       "      <td>2016/10/31 23:06:36+00</td>\n",
       "      <td>NaN</td>\n",
       "      <td>Traffic Law Enforcement (P)</td>\n",
       "      <td>TAG-Tagged</td>\n",
       "      <td>NaN</td>\n",
       "      <td>NO</td>\n",
       "      <td>NO</td>\n",
       "      <td>Unknown</td>\n",
       "      <td>Black</td>\n",
       "      <td>Male</td>\n",
       "      <td>44.962689</td>\n",
       "      <td>-93.275921</td>\n",
       "      <td>-1.038343e+07</td>\n",
       "      <td>5.615650e+06</td>\n",
       "      <td>5.0</td>\n",
       "      <td>Steven's Square - Loring Heights</td>\n",
       "      <td>2017/08/08 10:26:13+00</td>\n",
       "    </tr>\n",
       "    <tr>\n",
       "      <th>2</th>\n",
       "      <td>3</td>\n",
       "      <td>16-395326</td>\n",
       "      <td>2016/10/31 23:20:54+00</td>\n",
       "      <td>NaN</td>\n",
       "      <td>Attempt Pick-Up (P)</td>\n",
       "      <td>RFD-Refused</td>\n",
       "      <td>NaN</td>\n",
       "      <td>NO</td>\n",
       "      <td>NO</td>\n",
       "      <td>Unknown</td>\n",
       "      <td>Unknown</td>\n",
       "      <td>Unknown</td>\n",
       "      <td>45.024836</td>\n",
       "      <td>-93.288069</td>\n",
       "      <td>-1.038478e+07</td>\n",
       "      <td>5.625432e+06</td>\n",
       "      <td>4.0</td>\n",
       "      <td>Webber - Camden</td>\n",
       "      <td>2017/08/08 10:24:35+00</td>\n",
       "    </tr>\n",
       "    <tr>\n",
       "      <th>3</th>\n",
       "      <td>4</td>\n",
       "      <td>16-395328</td>\n",
       "      <td>2016/10/31 23:23:20+00</td>\n",
       "      <td>NaN</td>\n",
       "      <td>Suspicious Person (P)</td>\n",
       "      <td>BKG-Booking</td>\n",
       "      <td>NaN</td>\n",
       "      <td>YES</td>\n",
       "      <td>NO</td>\n",
       "      <td>Black</td>\n",
       "      <td>Black</td>\n",
       "      <td>Male</td>\n",
       "      <td>44.946560</td>\n",
       "      <td>-93.247410</td>\n",
       "      <td>-1.038025e+07</td>\n",
       "      <td>5.613112e+06</td>\n",
       "      <td>3.0</td>\n",
       "      <td>Corcoran</td>\n",
       "      <td>2017/08/08 10:25:31+00</td>\n",
       "    </tr>\n",
       "    <tr>\n",
       "      <th>4</th>\n",
       "      <td>5</td>\n",
       "      <td>16-395333</td>\n",
       "      <td>2016/10/31 23:26:05+00</td>\n",
       "      <td>NaN</td>\n",
       "      <td>Suspicious Vehicle (P)</td>\n",
       "      <td>GOA-Gone on Arrival</td>\n",
       "      <td>NaN</td>\n",
       "      <td>NO</td>\n",
       "      <td>NO</td>\n",
       "      <td>Other</td>\n",
       "      <td>Unknown</td>\n",
       "      <td>Male</td>\n",
       "      <td>44.906170</td>\n",
       "      <td>-93.255010</td>\n",
       "      <td>-1.038110e+07</td>\n",
       "      <td>5.606762e+06</td>\n",
       "      <td>3.0</td>\n",
       "      <td>Hale</td>\n",
       "      <td>2017/08/08 10:25:03+00</td>\n",
       "    </tr>\n",
       "  </tbody>\n",
       "</table>\n",
       "</div>"
      ],
      "text/plain": [
       "   OBJECTID masterIncidentNumber            responseDate reason  \\\n",
       "0         1            16-395258  2016/10/31 22:40:47+00    NaN   \n",
       "1         2            16-395296  2016/10/31 23:06:36+00    NaN   \n",
       "2         3            16-395326  2016/10/31 23:20:54+00    NaN   \n",
       "3         4            16-395328  2016/10/31 23:23:20+00    NaN   \n",
       "4         5            16-395333  2016/10/31 23:26:05+00    NaN   \n",
       "\n",
       "                       problem      callDisposition citationIssued  \\\n",
       "0        Suspicious Person (P)          BKG-Booking            NaN   \n",
       "1  Traffic Law Enforcement (P)           TAG-Tagged            NaN   \n",
       "2          Attempt Pick-Up (P)          RFD-Refused            NaN   \n",
       "3        Suspicious Person (P)          BKG-Booking            NaN   \n",
       "4       Suspicious Vehicle (P)  GOA-Gone on Arrival            NaN   \n",
       "\n",
       "  personSearch vehicleSearch  preRace     race   gender        lat       long  \\\n",
       "0          YES            NO    Black    Black     Male  44.979570 -93.272570   \n",
       "1           NO            NO  Unknown    Black     Male  44.962689 -93.275921   \n",
       "2           NO            NO  Unknown  Unknown  Unknown  45.024836 -93.288069   \n",
       "3          YES            NO    Black    Black     Male  44.946560 -93.247410   \n",
       "4           NO            NO    Other  Unknown     Male  44.906170 -93.255010   \n",
       "\n",
       "              x             y  policePrecinct  \\\n",
       "0 -1.038306e+07  5.618306e+06             1.0   \n",
       "1 -1.038343e+07  5.615650e+06             5.0   \n",
       "2 -1.038478e+07  5.625432e+06             4.0   \n",
       "3 -1.038025e+07  5.613112e+06             3.0   \n",
       "4 -1.038110e+07  5.606762e+06             3.0   \n",
       "\n",
       "                       neighborhood          lastUpdateDate  \n",
       "0                     Downtown West  2017/08/08 10:25:31+00  \n",
       "1  Steven's Square - Loring Heights  2017/08/08 10:26:13+00  \n",
       "2                   Webber - Camden  2017/08/08 10:24:35+00  \n",
       "3                          Corcoran  2017/08/08 10:25:31+00  \n",
       "4                              Hale  2017/08/08 10:25:03+00  "
      ]
     },
     "execution_count": 3,
     "metadata": {},
     "output_type": "execute_result"
    }
   ],
   "source": [
    "df.head()"
   ]
  },
  {
   "cell_type": "code",
   "execution_count": 4,
   "id": "7da83dbe",
   "metadata": {},
   "outputs": [
    {
     "data": {
      "text/plain": [
       "'2016/10/31 22:40:47+00'"
      ]
     },
     "execution_count": 4,
     "metadata": {},
     "output_type": "execute_result"
    }
   ],
   "source": [
    "df.responseDate.min()"
   ]
  },
  {
   "cell_type": "code",
   "execution_count": 5,
   "id": "918e01ab",
   "metadata": {},
   "outputs": [],
   "source": [
    "drop_cols = [\n",
    "    \"OBJECTID\",\n",
    "    \"masterIncidentNumber\",\n",
    "    \"problem\",\n",
    "    \"callDisposition\",\n",
    "    \"citationIssued\",\n",
    "    \"personSearch\",\n",
    "    \"vehicleSearch\",\n",
    "    \"preRace\",\n",
    "    \"race\",\n",
    "    \"gender\",\n",
    "    \"lastUpdateDate\",\n",
    "    \"lat\",\n",
    "    \"long\",\n",
    "    \"x\",\n",
    "    \"y\",\n",
    "    \"policePrecinct\"\n",
    "]"
   ]
  },
  {
   "cell_type": "code",
   "execution_count": 6,
   "id": "90b3dcc2",
   "metadata": {},
   "outputs": [],
   "source": [
    "df.drop(columns=drop_cols, inplace=True)"
   ]
  },
  {
   "cell_type": "code",
   "execution_count": 7,
   "id": "655fa8bf",
   "metadata": {},
   "outputs": [
    {
     "data": {
      "text/html": [
       "<div>\n",
       "<style scoped>\n",
       "    .dataframe tbody tr th:only-of-type {\n",
       "        vertical-align: middle;\n",
       "    }\n",
       "\n",
       "    .dataframe tbody tr th {\n",
       "        vertical-align: top;\n",
       "    }\n",
       "\n",
       "    .dataframe thead th {\n",
       "        text-align: right;\n",
       "    }\n",
       "</style>\n",
       "<table border=\"1\" class=\"dataframe\">\n",
       "  <thead>\n",
       "    <tr style=\"text-align: right;\">\n",
       "      <th></th>\n",
       "      <th>responseDate</th>\n",
       "      <th>reason</th>\n",
       "      <th>neighborhood</th>\n",
       "    </tr>\n",
       "  </thead>\n",
       "  <tbody>\n",
       "    <tr>\n",
       "      <th>0</th>\n",
       "      <td>2016/10/31 22:40:47+00</td>\n",
       "      <td>NaN</td>\n",
       "      <td>Downtown West</td>\n",
       "    </tr>\n",
       "    <tr>\n",
       "      <th>1</th>\n",
       "      <td>2016/10/31 23:06:36+00</td>\n",
       "      <td>NaN</td>\n",
       "      <td>Steven's Square - Loring Heights</td>\n",
       "    </tr>\n",
       "    <tr>\n",
       "      <th>2</th>\n",
       "      <td>2016/10/31 23:20:54+00</td>\n",
       "      <td>NaN</td>\n",
       "      <td>Webber - Camden</td>\n",
       "    </tr>\n",
       "    <tr>\n",
       "      <th>3</th>\n",
       "      <td>2016/10/31 23:23:20+00</td>\n",
       "      <td>NaN</td>\n",
       "      <td>Corcoran</td>\n",
       "    </tr>\n",
       "    <tr>\n",
       "      <th>4</th>\n",
       "      <td>2016/10/31 23:26:05+00</td>\n",
       "      <td>NaN</td>\n",
       "      <td>Hale</td>\n",
       "    </tr>\n",
       "  </tbody>\n",
       "</table>\n",
       "</div>"
      ],
      "text/plain": [
       "             responseDate reason                      neighborhood\n",
       "0  2016/10/31 22:40:47+00    NaN                     Downtown West\n",
       "1  2016/10/31 23:06:36+00    NaN  Steven's Square - Loring Heights\n",
       "2  2016/10/31 23:20:54+00    NaN                   Webber - Camden\n",
       "3  2016/10/31 23:23:20+00    NaN                          Corcoran\n",
       "4  2016/10/31 23:26:05+00    NaN                              Hale"
      ]
     },
     "execution_count": 7,
     "metadata": {},
     "output_type": "execute_result"
    }
   ],
   "source": [
    "df.head()"
   ]
  },
  {
   "cell_type": "code",
   "execution_count": 8,
   "id": "b17d57bf",
   "metadata": {},
   "outputs": [],
   "source": [
    "df[\"responseDate\"] = pd.to_datetime(df.responseDate)"
   ]
  },
  {
   "cell_type": "code",
   "execution_count": 9,
   "id": "85f281a0",
   "metadata": {},
   "outputs": [
    {
     "data": {
      "text/plain": [
       "Citizen / 9-1-1        46306\n",
       "Moving Violation       42815\n",
       "Investigative          29821\n",
       "Equipment Violation    21287\n",
       "Name: reason, dtype: int64"
      ]
     },
     "execution_count": 9,
     "metadata": {},
     "output_type": "execute_result"
    }
   ],
   "source": [
    "df.reason.value_counts()"
   ]
  },
  {
   "cell_type": "code",
   "execution_count": 10,
   "id": "10fb3c11",
   "metadata": {},
   "outputs": [],
   "source": [
    "df = df[ df.reason == \"Equipment Violation\" ].drop(columns=\"reason\")"
   ]
  },
  {
   "cell_type": "code",
   "execution_count": 11,
   "id": "a01a12d9",
   "metadata": {
    "scrolled": true
   },
   "outputs": [
    {
     "data": {
      "text/html": [
       "<div>\n",
       "<style scoped>\n",
       "    .dataframe tbody tr th:only-of-type {\n",
       "        vertical-align: middle;\n",
       "    }\n",
       "\n",
       "    .dataframe tbody tr th {\n",
       "        vertical-align: top;\n",
       "    }\n",
       "\n",
       "    .dataframe thead th {\n",
       "        text-align: right;\n",
       "    }\n",
       "</style>\n",
       "<table border=\"1\" class=\"dataframe\">\n",
       "  <thead>\n",
       "    <tr style=\"text-align: right;\">\n",
       "      <th></th>\n",
       "      <th>responseDate</th>\n",
       "      <th>neighborhood</th>\n",
       "    </tr>\n",
       "  </thead>\n",
       "  <tbody>\n",
       "    <tr>\n",
       "      <th>18918</th>\n",
       "      <td>2017-03-20 14:17:41+00:00</td>\n",
       "      <td>Hawthorne</td>\n",
       "    </tr>\n",
       "    <tr>\n",
       "      <th>18957</th>\n",
       "      <td>2017-03-20 20:29:37+00:00</td>\n",
       "      <td>Ventura Village</td>\n",
       "    </tr>\n",
       "    <tr>\n",
       "      <th>18966</th>\n",
       "      <td>2017-03-20 21:56:04+00:00</td>\n",
       "      <td>Jordan</td>\n",
       "    </tr>\n",
       "    <tr>\n",
       "      <th>18967</th>\n",
       "      <td>2017-03-20 21:56:15+00:00</td>\n",
       "      <td>Tangletown</td>\n",
       "    </tr>\n",
       "    <tr>\n",
       "      <th>18982</th>\n",
       "      <td>2017-03-21 01:19:44+00:00</td>\n",
       "      <td>Marcy Holmes</td>\n",
       "    </tr>\n",
       "  </tbody>\n",
       "</table>\n",
       "</div>"
      ],
      "text/plain": [
       "                   responseDate     neighborhood\n",
       "18918 2017-03-20 14:17:41+00:00        Hawthorne\n",
       "18957 2017-03-20 20:29:37+00:00  Ventura Village\n",
       "18966 2017-03-20 21:56:04+00:00           Jordan\n",
       "18967 2017-03-20 21:56:15+00:00       Tangletown\n",
       "18982 2017-03-21 01:19:44+00:00     Marcy Holmes"
      ]
     },
     "execution_count": 11,
     "metadata": {},
     "output_type": "execute_result"
    }
   ],
   "source": [
    "df.head()"
   ]
  },
  {
   "cell_type": "code",
   "execution_count": 12,
   "id": "a94b67e1",
   "metadata": {},
   "outputs": [],
   "source": [
    "df[\"month\"] = df.responseDate.dt.month"
   ]
  },
  {
   "cell_type": "code",
   "execution_count": 13,
   "id": "17acf150",
   "metadata": {},
   "outputs": [],
   "source": [
    "df[\"day\"] = df.responseDate.dt.day"
   ]
  },
  {
   "cell_type": "code",
   "execution_count": 14,
   "id": "d398a698",
   "metadata": {},
   "outputs": [
    {
     "data": {
      "text/html": [
       "<div>\n",
       "<style scoped>\n",
       "    .dataframe tbody tr th:only-of-type {\n",
       "        vertical-align: middle;\n",
       "    }\n",
       "\n",
       "    .dataframe tbody tr th {\n",
       "        vertical-align: top;\n",
       "    }\n",
       "\n",
       "    .dataframe thead th {\n",
       "        text-align: right;\n",
       "    }\n",
       "</style>\n",
       "<table border=\"1\" class=\"dataframe\">\n",
       "  <thead>\n",
       "    <tr style=\"text-align: right;\">\n",
       "      <th></th>\n",
       "      <th>responseDate</th>\n",
       "      <th>neighborhood</th>\n",
       "      <th>month</th>\n",
       "      <th>day</th>\n",
       "    </tr>\n",
       "  </thead>\n",
       "  <tbody>\n",
       "    <tr>\n",
       "      <th>18918</th>\n",
       "      <td>2017-03-20 14:17:41+00:00</td>\n",
       "      <td>Hawthorne</td>\n",
       "      <td>3</td>\n",
       "      <td>20</td>\n",
       "    </tr>\n",
       "    <tr>\n",
       "      <th>18957</th>\n",
       "      <td>2017-03-20 20:29:37+00:00</td>\n",
       "      <td>Ventura Village</td>\n",
       "      <td>3</td>\n",
       "      <td>20</td>\n",
       "    </tr>\n",
       "    <tr>\n",
       "      <th>18966</th>\n",
       "      <td>2017-03-20 21:56:04+00:00</td>\n",
       "      <td>Jordan</td>\n",
       "      <td>3</td>\n",
       "      <td>20</td>\n",
       "    </tr>\n",
       "    <tr>\n",
       "      <th>18967</th>\n",
       "      <td>2017-03-20 21:56:15+00:00</td>\n",
       "      <td>Tangletown</td>\n",
       "      <td>3</td>\n",
       "      <td>20</td>\n",
       "    </tr>\n",
       "    <tr>\n",
       "      <th>18982</th>\n",
       "      <td>2017-03-21 01:19:44+00:00</td>\n",
       "      <td>Marcy Holmes</td>\n",
       "      <td>3</td>\n",
       "      <td>21</td>\n",
       "    </tr>\n",
       "  </tbody>\n",
       "</table>\n",
       "</div>"
      ],
      "text/plain": [
       "                   responseDate     neighborhood  month  day\n",
       "18918 2017-03-20 14:17:41+00:00        Hawthorne      3   20\n",
       "18957 2017-03-20 20:29:37+00:00  Ventura Village      3   20\n",
       "18966 2017-03-20 21:56:04+00:00           Jordan      3   20\n",
       "18967 2017-03-20 21:56:15+00:00       Tangletown      3   20\n",
       "18982 2017-03-21 01:19:44+00:00     Marcy Holmes      3   21"
      ]
     },
     "execution_count": 14,
     "metadata": {},
     "output_type": "execute_result"
    }
   ],
   "source": [
    "df.head()"
   ]
  },
  {
   "cell_type": "code",
   "execution_count": 15,
   "id": "f75368a4",
   "metadata": {},
   "outputs": [],
   "source": [
    "df['date'] = df.month.map(str) + \"-\" + df.day.map(str)"
   ]
  },
  {
   "cell_type": "code",
   "execution_count": 17,
   "id": "08030604",
   "metadata": {},
   "outputs": [
    {
     "data": {
      "text/html": [
       "<div>\n",
       "<style scoped>\n",
       "    .dataframe tbody tr th:only-of-type {\n",
       "        vertical-align: middle;\n",
       "    }\n",
       "\n",
       "    .dataframe tbody tr th {\n",
       "        vertical-align: top;\n",
       "    }\n",
       "\n",
       "    .dataframe thead th {\n",
       "        text-align: right;\n",
       "    }\n",
       "</style>\n",
       "<table border=\"1\" class=\"dataframe\">\n",
       "  <thead>\n",
       "    <tr style=\"text-align: right;\">\n",
       "      <th></th>\n",
       "      <th>responseDate</th>\n",
       "      <th>neighborhood</th>\n",
       "      <th>month</th>\n",
       "      <th>day</th>\n",
       "      <th>date</th>\n",
       "    </tr>\n",
       "  </thead>\n",
       "  <tbody>\n",
       "    <tr>\n",
       "      <th>18918</th>\n",
       "      <td>2017-03-20 14:17:41+00:00</td>\n",
       "      <td>Hawthorne</td>\n",
       "      <td>3</td>\n",
       "      <td>20</td>\n",
       "      <td>3-20</td>\n",
       "    </tr>\n",
       "    <tr>\n",
       "      <th>18957</th>\n",
       "      <td>2017-03-20 20:29:37+00:00</td>\n",
       "      <td>Ventura Village</td>\n",
       "      <td>3</td>\n",
       "      <td>20</td>\n",
       "      <td>3-20</td>\n",
       "    </tr>\n",
       "    <tr>\n",
       "      <th>18966</th>\n",
       "      <td>2017-03-20 21:56:04+00:00</td>\n",
       "      <td>Jordan</td>\n",
       "      <td>3</td>\n",
       "      <td>20</td>\n",
       "      <td>3-20</td>\n",
       "    </tr>\n",
       "    <tr>\n",
       "      <th>18967</th>\n",
       "      <td>2017-03-20 21:56:15+00:00</td>\n",
       "      <td>Tangletown</td>\n",
       "      <td>3</td>\n",
       "      <td>20</td>\n",
       "      <td>3-20</td>\n",
       "    </tr>\n",
       "    <tr>\n",
       "      <th>18982</th>\n",
       "      <td>2017-03-21 01:19:44+00:00</td>\n",
       "      <td>Marcy Holmes</td>\n",
       "      <td>3</td>\n",
       "      <td>21</td>\n",
       "      <td>3-21</td>\n",
       "    </tr>\n",
       "  </tbody>\n",
       "</table>\n",
       "</div>"
      ],
      "text/plain": [
       "                   responseDate     neighborhood  month  day  date\n",
       "18918 2017-03-20 14:17:41+00:00        Hawthorne      3   20  3-20\n",
       "18957 2017-03-20 20:29:37+00:00  Ventura Village      3   20  3-20\n",
       "18966 2017-03-20 21:56:04+00:00           Jordan      3   20  3-20\n",
       "18967 2017-03-20 21:56:15+00:00       Tangletown      3   20  3-20\n",
       "18982 2017-03-21 01:19:44+00:00     Marcy Holmes      3   21  3-21"
      ]
     },
     "execution_count": 17,
     "metadata": {},
     "output_type": "execute_result"
    }
   ],
   "source": [
    "df.head()"
   ]
  },
  {
   "cell_type": "code",
   "execution_count": 19,
   "id": "c462f42a",
   "metadata": {},
   "outputs": [],
   "source": [
    "df.sort_values('responseDate', inplace=True)"
   ]
  },
  {
   "cell_type": "code",
   "execution_count": 20,
   "id": "29821c16",
   "metadata": {},
   "outputs": [],
   "source": [
    "df = df.loc[ (df.month >= 7) & (df.month <= 9) ]"
   ]
  },
  {
   "cell_type": "code",
   "execution_count": 21,
   "id": "e5f4747d",
   "metadata": {},
   "outputs": [],
   "source": [
    "top_ten_areas = df.neighborhood.value_counts().index[:10]"
   ]
  },
  {
   "cell_type": "code",
   "execution_count": 22,
   "id": "bcd400ef",
   "metadata": {},
   "outputs": [],
   "source": [
    "df = df[ df.neighborhood.isin(top_ten_areas) ]"
   ]
  },
  {
   "cell_type": "code",
   "execution_count": 23,
   "id": "dd75d918",
   "metadata": {},
   "outputs": [],
   "source": [
    "df.drop(columns='responseDate', inplace=True)"
   ]
  },
  {
   "cell_type": "code",
   "execution_count": 24,
   "id": "b589a890",
   "metadata": {},
   "outputs": [],
   "source": [
    "df['traffic_stops'] = 1"
   ]
  },
  {
   "cell_type": "code",
   "execution_count": 25,
   "id": "307bc716",
   "metadata": {},
   "outputs": [],
   "source": [
    "df.drop(columns=['month', 'day'], inplace=True)"
   ]
  },
  {
   "cell_type": "code",
   "execution_count": 26,
   "id": "08a37bf1",
   "metadata": {},
   "outputs": [
    {
     "data": {
      "text/html": [
       "<div>\n",
       "<style scoped>\n",
       "    .dataframe tbody tr th:only-of-type {\n",
       "        vertical-align: middle;\n",
       "    }\n",
       "\n",
       "    .dataframe tbody tr th {\n",
       "        vertical-align: top;\n",
       "    }\n",
       "\n",
       "    .dataframe thead th {\n",
       "        text-align: right;\n",
       "    }\n",
       "</style>\n",
       "<table border=\"1\" class=\"dataframe\">\n",
       "  <thead>\n",
       "    <tr style=\"text-align: right;\">\n",
       "      <th></th>\n",
       "      <th>neighborhood</th>\n",
       "      <th>date</th>\n",
       "      <th>traffic_stops</th>\n",
       "    </tr>\n",
       "  </thead>\n",
       "  <tbody>\n",
       "    <tr>\n",
       "      <th>35847</th>\n",
       "      <td>Downtown West</td>\n",
       "      <td>7-1</td>\n",
       "      <td>1</td>\n",
       "    </tr>\n",
       "    <tr>\n",
       "      <th>35913</th>\n",
       "      <td>Downtown West</td>\n",
       "      <td>7-1</td>\n",
       "      <td>1</td>\n",
       "    </tr>\n",
       "    <tr>\n",
       "      <th>35915</th>\n",
       "      <td>Lowry Hill East</td>\n",
       "      <td>7-1</td>\n",
       "      <td>1</td>\n",
       "    </tr>\n",
       "    <tr>\n",
       "      <th>35920</th>\n",
       "      <td>Whittier</td>\n",
       "      <td>7-1</td>\n",
       "      <td>1</td>\n",
       "    </tr>\n",
       "    <tr>\n",
       "      <th>35921</th>\n",
       "      <td>Whittier</td>\n",
       "      <td>7-1</td>\n",
       "      <td>1</td>\n",
       "    </tr>\n",
       "  </tbody>\n",
       "</table>\n",
       "</div>"
      ],
      "text/plain": [
       "          neighborhood date  traffic_stops\n",
       "35847    Downtown West  7-1              1\n",
       "35913    Downtown West  7-1              1\n",
       "35915  Lowry Hill East  7-1              1\n",
       "35920         Whittier  7-1              1\n",
       "35921         Whittier  7-1              1"
      ]
     },
     "execution_count": 26,
     "metadata": {},
     "output_type": "execute_result"
    }
   ],
   "source": [
    "df.head()"
   ]
  },
  {
   "cell_type": "code",
   "execution_count": 27,
   "id": "96d2ee13",
   "metadata": {},
   "outputs": [],
   "source": [
    "gb = df.groupby(['neighborhood', 'date']).count()\n",
    "idx = pd.MultiIndex.from_product(gb.index.levels)\n",
    "gb2 = gb.reindex(idx)\n",
    "gb2 = gb2.fillna(0).astype(int)"
   ]
  },
  {
   "cell_type": "code",
   "execution_count": 28,
   "id": "111c9bd4",
   "metadata": {},
   "outputs": [
    {
     "data": {
      "text/html": [
       "<div>\n",
       "<style scoped>\n",
       "    .dataframe tbody tr th:only-of-type {\n",
       "        vertical-align: middle;\n",
       "    }\n",
       "\n",
       "    .dataframe tbody tr th {\n",
       "        vertical-align: top;\n",
       "    }\n",
       "\n",
       "    .dataframe thead th {\n",
       "        text-align: right;\n",
       "    }\n",
       "</style>\n",
       "<table border=\"1\" class=\"dataframe\">\n",
       "  <thead>\n",
       "    <tr style=\"text-align: right;\">\n",
       "      <th></th>\n",
       "      <th></th>\n",
       "      <th>traffic_stops</th>\n",
       "    </tr>\n",
       "    <tr>\n",
       "      <th>neighborhood</th>\n",
       "      <th>date</th>\n",
       "      <th></th>\n",
       "    </tr>\n",
       "  </thead>\n",
       "  <tbody>\n",
       "    <tr>\n",
       "      <th rowspan=\"5\" valign=\"top\">Downtown West</th>\n",
       "      <th>7-1</th>\n",
       "      <td>4</td>\n",
       "    </tr>\n",
       "    <tr>\n",
       "      <th>7-10</th>\n",
       "      <td>3</td>\n",
       "    </tr>\n",
       "    <tr>\n",
       "      <th>7-11</th>\n",
       "      <td>1</td>\n",
       "    </tr>\n",
       "    <tr>\n",
       "      <th>7-12</th>\n",
       "      <td>1</td>\n",
       "    </tr>\n",
       "    <tr>\n",
       "      <th>7-13</th>\n",
       "      <td>3</td>\n",
       "    </tr>\n",
       "    <tr>\n",
       "      <th>...</th>\n",
       "      <th>...</th>\n",
       "      <td>...</td>\n",
       "    </tr>\n",
       "    <tr>\n",
       "      <th rowspan=\"5\" valign=\"top\">Whittier</th>\n",
       "      <th>9-5</th>\n",
       "      <td>2</td>\n",
       "    </tr>\n",
       "    <tr>\n",
       "      <th>9-6</th>\n",
       "      <td>2</td>\n",
       "    </tr>\n",
       "    <tr>\n",
       "      <th>9-7</th>\n",
       "      <td>1</td>\n",
       "    </tr>\n",
       "    <tr>\n",
       "      <th>9-8</th>\n",
       "      <td>3</td>\n",
       "    </tr>\n",
       "    <tr>\n",
       "      <th>9-9</th>\n",
       "      <td>2</td>\n",
       "    </tr>\n",
       "  </tbody>\n",
       "</table>\n",
       "<p>920 rows × 1 columns</p>\n",
       "</div>"
      ],
      "text/plain": [
       "                    traffic_stops\n",
       "neighborhood  date               \n",
       "Downtown West 7-1               4\n",
       "              7-10              3\n",
       "              7-11              1\n",
       "              7-12              1\n",
       "              7-13              3\n",
       "...                           ...\n",
       "Whittier      9-5               2\n",
       "              9-6               2\n",
       "              9-7               1\n",
       "              9-8               3\n",
       "              9-9               2\n",
       "\n",
       "[920 rows x 1 columns]"
      ]
     },
     "execution_count": 28,
     "metadata": {},
     "output_type": "execute_result"
    }
   ],
   "source": [
    "gb2"
   ]
  },
  {
   "cell_type": "markdown",
   "id": "01b706f3",
   "metadata": {},
   "source": [
    "# Visualize the Results"
   ]
  },
  {
   "cell_type": "code",
   "execution_count": 32,
   "id": "a82e4afe",
   "metadata": {},
   "outputs": [],
   "source": [
    "# !pip install plotly dash"
   ]
  },
  {
   "cell_type": "code",
   "execution_count": null,
   "id": "45d4a1cc",
   "metadata": {},
   "outputs": [],
   "source": []
  },
  {
   "cell_type": "code",
   "execution_count": null,
   "id": "b2fc8511",
   "metadata": {},
   "outputs": [],
   "source": []
  },
  {
   "cell_type": "code",
   "execution_count": null,
   "id": "210add17",
   "metadata": {},
   "outputs": [],
   "source": []
  },
  {
   "cell_type": "code",
   "execution_count": null,
   "id": "05cb240e",
   "metadata": {},
   "outputs": [],
   "source": []
  },
  {
   "cell_type": "code",
   "execution_count": 15,
   "id": "d7507c25",
   "metadata": {},
   "outputs": [],
   "source": [
    "counts = df.groupby(\"neighborhood\").responseDate.count()\n",
    "counts.name = \"counts\""
   ]
  },
  {
   "cell_type": "code",
   "execution_count": 16,
   "id": "f7a2c43c",
   "metadata": {},
   "outputs": [],
   "source": [
    "counts = pd.DataFrame({'neighborhood': counts.index, 'incidents': counts.values}).sort_values('incidents', ascending=False)"
   ]
  },
  {
   "cell_type": "code",
   "execution_count": 19,
   "id": "aab04cbe",
   "metadata": {},
   "outputs": [
    {
     "data": {
      "text/html": [
       "<div>\n",
       "<style scoped>\n",
       "    .dataframe tbody tr th:only-of-type {\n",
       "        vertical-align: middle;\n",
       "    }\n",
       "\n",
       "    .dataframe tbody tr th {\n",
       "        vertical-align: top;\n",
       "    }\n",
       "\n",
       "    .dataframe thead th {\n",
       "        text-align: right;\n",
       "    }\n",
       "</style>\n",
       "<table border=\"1\" class=\"dataframe\">\n",
       "  <thead>\n",
       "    <tr style=\"text-align: right;\">\n",
       "      <th></th>\n",
       "      <th>neighborhood</th>\n",
       "      <th>incidents</th>\n",
       "    </tr>\n",
       "  </thead>\n",
       "  <tbody>\n",
       "    <tr>\n",
       "      <th>20</th>\n",
       "      <td>Hawthorne</td>\n",
       "      <td>21</td>\n",
       "    </tr>\n",
       "    <tr>\n",
       "      <th>53</th>\n",
       "      <td>Whittier</td>\n",
       "      <td>21</td>\n",
       "    </tr>\n",
       "    <tr>\n",
       "      <th>36</th>\n",
       "      <td>Near - North</td>\n",
       "      <td>18</td>\n",
       "    </tr>\n",
       "    <tr>\n",
       "      <th>31</th>\n",
       "      <td>Marcy Holmes</td>\n",
       "      <td>18</td>\n",
       "    </tr>\n",
       "    <tr>\n",
       "      <th>23</th>\n",
       "      <td>Jordan</td>\n",
       "      <td>15</td>\n",
       "    </tr>\n",
       "    <tr>\n",
       "      <th>21</th>\n",
       "      <td>Holland</td>\n",
       "      <td>13</td>\n",
       "    </tr>\n",
       "    <tr>\n",
       "      <th>11</th>\n",
       "      <td>Downtown West</td>\n",
       "      <td>12</td>\n",
       "    </tr>\n",
       "    <tr>\n",
       "      <th>37</th>\n",
       "      <td>Nicollet Island - East Bank</td>\n",
       "      <td>10</td>\n",
       "    </tr>\n",
       "    <tr>\n",
       "      <th>28</th>\n",
       "      <td>Lowry Hill East</td>\n",
       "      <td>8</td>\n",
       "    </tr>\n",
       "    <tr>\n",
       "      <th>54</th>\n",
       "      <td>Willard - Hay</td>\n",
       "      <td>8</td>\n",
       "    </tr>\n",
       "  </tbody>\n",
       "</table>\n",
       "</div>"
      ],
      "text/plain": [
       "                   neighborhood  incidents\n",
       "20                    Hawthorne         21\n",
       "53                     Whittier         21\n",
       "36                 Near - North         18\n",
       "31                 Marcy Holmes         18\n",
       "23                       Jordan         15\n",
       "21                      Holland         13\n",
       "11                Downtown West         12\n",
       "37  Nicollet Island - East Bank         10\n",
       "28              Lowry Hill East          8\n",
       "54                Willard - Hay          8"
      ]
     },
     "execution_count": 19,
     "metadata": {},
     "output_type": "execute_result"
    }
   ],
   "source": [
    "counts.head(10)"
   ]
  }
 ],
 "metadata": {
  "kernelspec": {
   "display_name": "Python 3",
   "language": "python",
   "name": "python3"
  },
  "language_info": {
   "codemirror_mode": {
    "name": "ipython",
    "version": 3
   },
   "file_extension": ".py",
   "mimetype": "text/x-python",
   "name": "python",
   "nbconvert_exporter": "python",
   "pygments_lexer": "ipython3",
   "version": "3.9.2"
  }
 },
 "nbformat": 4,
 "nbformat_minor": 5
}
