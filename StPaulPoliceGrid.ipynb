{
 "cells": [
  {
   "cell_type": "code",
   "execution_count": 1,
   "id": "17bd80a8",
   "metadata": {},
   "outputs": [],
   "source": [
    "import pandas as pd"
   ]
  },
  {
   "cell_type": "code",
   "execution_count": 2,
   "id": "efcabcb7",
   "metadata": {},
   "outputs": [],
   "source": [
    "df = pd.read_csv('./data/stpaul-PoliceGrid.csv')"
   ]
  },
  {
   "cell_type": "code",
   "execution_count": 3,
   "id": "b0ad038e",
   "metadata": {},
   "outputs": [
    {
     "data": {
      "text/html": [
       "<div>\n",
       "<style scoped>\n",
       "    .dataframe tbody tr th:only-of-type {\n",
       "        vertical-align: middle;\n",
       "    }\n",
       "\n",
       "    .dataframe tbody tr th {\n",
       "        vertical-align: top;\n",
       "    }\n",
       "\n",
       "    .dataframe thead th {\n",
       "        text-align: right;\n",
       "    }\n",
       "</style>\n",
       "<table border=\"1\" class=\"dataframe\">\n",
       "  <thead>\n",
       "    <tr style=\"text-align: right;\">\n",
       "      <th></th>\n",
       "      <th>the_geom</th>\n",
       "      <th>DIST</th>\n",
       "      <th>GRIDNUM</th>\n",
       "    </tr>\n",
       "  </thead>\n",
       "  <tbody>\n",
       "    <tr>\n",
       "      <th>0</th>\n",
       "      <td>MULTIPOLYGON (((-93.1873187332505 44.959845223...</td>\n",
       "      <td>Western District</td>\n",
       "      <td>82</td>\n",
       "    </tr>\n",
       "    <tr>\n",
       "      <th>1</th>\n",
       "      <td>MULTIPOLYGON (((-93.1891517284332 44.961503652...</td>\n",
       "      <td>Western District</td>\n",
       "      <td>62</td>\n",
       "    </tr>\n",
       "    <tr>\n",
       "      <th>2</th>\n",
       "      <td>MULTIPOLYGON (((-93.18726521154463 44.97865486...</td>\n",
       "      <td>Western District</td>\n",
       "      <td>43</td>\n",
       "    </tr>\n",
       "    <tr>\n",
       "      <th>3</th>\n",
       "      <td>MULTIPOLYGON (((-93.18723966266045 44.98348311...</td>\n",
       "      <td>Western District</td>\n",
       "      <td>22</td>\n",
       "    </tr>\n",
       "    <tr>\n",
       "      <th>4</th>\n",
       "      <td>MULTIPOLYGON (((-93.18741336776411 44.96870629...</td>\n",
       "      <td>Western District</td>\n",
       "      <td>63</td>\n",
       "    </tr>\n",
       "  </tbody>\n",
       "</table>\n",
       "</div>"
      ],
      "text/plain": [
       "                                            the_geom              DIST  \\\n",
       "0  MULTIPOLYGON (((-93.1873187332505 44.959845223...  Western District   \n",
       "1  MULTIPOLYGON (((-93.1891517284332 44.961503652...  Western District   \n",
       "2  MULTIPOLYGON (((-93.18726521154463 44.97865486...  Western District   \n",
       "3  MULTIPOLYGON (((-93.18723966266045 44.98348311...  Western District   \n",
       "4  MULTIPOLYGON (((-93.18741336776411 44.96870629...  Western District   \n",
       "\n",
       "   GRIDNUM  \n",
       "0       82  \n",
       "1       62  \n",
       "2       43  \n",
       "3       22  \n",
       "4       63  "
      ]
     },
     "execution_count": 3,
     "metadata": {},
     "output_type": "execute_result"
    }
   ],
   "source": [
    "df.head()"
   ]
  },
  {
   "cell_type": "code",
   "execution_count": 4,
   "id": "035369ff",
   "metadata": {},
   "outputs": [
    {
     "data": {
      "text/plain": [
       "Western District    88\n",
       "Eastern District    58\n",
       "Central District    54\n",
       "Name: DIST, dtype: int64"
      ]
     },
     "execution_count": 4,
     "metadata": {},
     "output_type": "execute_result"
    }
   ],
   "source": [
    "df.DIST.value_counts()"
   ]
  },
  {
   "cell_type": "code",
   "execution_count": null,
   "id": "32d82a57",
   "metadata": {},
   "outputs": [],
   "source": []
  }
 ],
 "metadata": {
  "kernelspec": {
   "display_name": "Python 3",
   "language": "python",
   "name": "python3"
  },
  "language_info": {
   "codemirror_mode": {
    "name": "ipython",
    "version": 3
   },
   "file_extension": ".py",
   "mimetype": "text/x-python",
   "name": "python",
   "nbconvert_exporter": "python",
   "pygments_lexer": "ipython3",
   "version": "3.9.2"
  }
 },
 "nbformat": 4,
 "nbformat_minor": 5
}
